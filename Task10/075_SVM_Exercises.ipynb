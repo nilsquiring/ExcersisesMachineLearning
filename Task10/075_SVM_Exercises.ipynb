{
 "cells": [
  {
   "cell_type": "markdown",
   "metadata": {},
   "source": [
    "# Exercises\n",
    "\n",
    "In this section we have two exercises:\n",
    "1. Implement the polynomial kernel.\n",
    "2. Implement the multiclass C-SVM."
   ]
  },
  {
   "cell_type": "markdown",
   "metadata": {},
   "source": [
    "## Polynomial kernel\n",
    "\n",
    "You need to extend the ``build_kernel`` function and implement the polynomial kernel if the ``kernel_type`` is set to 'poly'. The equation that needs to be implemented:\n",
    "\\begin{equation}\n",
    "K=(X^{T}*Y)^{d}.\n",
    "\\end{equation}"
   ]
  },
  {
   "cell_type": "code",
   "execution_count": 223,
   "metadata": {},
   "outputs": [],
   "source": [
    "def build_kernel(data_set, kernel_type='linear'):\n",
    "    kernel = np.dot(data_set, data_set.T)\n",
    "    if kernel_type == 'rbf':\n",
    "        sigma = 1.0\n",
    "        objects_count = len(data_set)\n",
    "        b = np.ones((len(data_set), 1))\n",
    "        kernel -= 0.5 * (np.dot((np.diag(kernel)*np.ones((1, objects_count))).T, b.T)\n",
    "                         + np.dot(b, (np.diag(kernel) * np.ones((1, objects_count))).T.T))\n",
    "        kernel = np.exp(kernel / (2. * sigma ** 2))\n",
    "    elif kernel_type == 'poly':\n",
    "        # put your code here\n",
    "        degree = 2\n",
    "        #kernel = np.dot(data_set.T, data_set)\n",
    "        kernel = np.linalg.matrix_power(kernel, degree)\n",
    "    return kernel"
   ]
  },
  {
   "cell_type": "code",
   "execution_count": 224,
   "metadata": {},
   "outputs": [
    {
     "data": {
      "text/plain": [
       "array([[323599.3803, 304833.4284, 298089.696 , ..., 490786.1074,\n",
       "        495043.2373, 461605.0342],\n",
       "       [304833.4284, 287168.7165, 280804.6941, ..., 462597.3605,\n",
       "        466614.7292, 435096.8831],\n",
       "       [298089.696 , 280804.6941, 274591.1728, ..., 452132.0929,\n",
       "        456054.7043, 425249.94  ],\n",
       "       ...,\n",
       "       [490786.1074, 462597.3605, 452132.0929, ..., 750422.9749,\n",
       "        757077.1988, 705920.5991],\n",
       "       [495043.2373, 466614.7292, 456054.7043, ..., 757077.1988,\n",
       "        763798.0465, 712184.4227],\n",
       "       [461605.0342, 435096.8831, 425249.94  , ..., 705920.5991,\n",
       "        712184.4227, 664060.2988]])"
      ]
     },
     "execution_count": 224,
     "metadata": {},
     "output_type": "execute_result"
    }
   ],
   "source": [
    "build_kernel(data_set, kernel_type='poly')"
   ]
  },
  {
   "cell_type": "markdown",
   "metadata": {},
   "source": [
    "## Implement a multiclass C-SVM\n",
    "\n",
    "Use the classification method that we used in notebook 7.3 and IRIS dataset to build a multiclass C-SVM classifier. Most implementation is about a function that will return the proper data set that need to be used for the prediction. You need to implement:\n",
    "- ``choose_set_for_label``\n",
    "- ``get_labels_count``"
   ]
  },
  {
   "cell_type": "code",
   "execution_count": 201,
   "metadata": {},
   "outputs": [],
   "source": [
    "from sklearn.datasets import load_iris\n",
    "from sklearn.model_selection import train_test_split\n",
    "import cvxopt\n",
    "import numpy as np\n",
    "\n",
    "iris = load_iris()\n",
    "data_set = iris.data\n",
    "label = iris.target    \n",
    "    \n",
    "def choose_set_for_label(data_set, label):   \n",
    "    N = len(np.unique(label))\n",
    "    n = N*(N-1)/2\n",
    "    \n",
    "    data_sets = []\n",
    "    labels = []\n",
    "    for i in range(N):\n",
    "        data_sets.append(data_set[label==i])\n",
    "        labels.append(label[label==i])\n",
    "    \n",
    "    #labels[2] = np.ones(len(labels[0]))*-1\n",
    "    combinations = []\n",
    "    for i in range(N):\n",
    "        for j in range(N):\n",
    "            if i!=j and i<=j:\n",
    "                data = np.concatenate((data_sets[i],data_sets[j]), axis = 0)\n",
    "                tmp = labels[i]*0+1\n",
    "                tmp1 = labels[j]*0-1\n",
    "                y = np.concatenate((tmp,tmp1), axis = 0)\n",
    "                \n",
    "                combinations.append(train_test_split(data, y, test_size=0.2, random_state=15))\n",
    "    return combinations\n",
    "\n",
    "combinations = choose_set_for_label(data_set, label)"
   ]
  },
  {
   "cell_type": "code",
   "execution_count": 202,
   "metadata": {},
   "outputs": [],
   "source": [
    "def get_labels_count(data_set):\n",
    "    labels_count = len(np.unique(data_set))\n",
    "    return labels_count"
   ]
  },
  {
   "cell_type": "code",
   "execution_count": 203,
   "metadata": {},
   "outputs": [],
   "source": [
    "#Use the code that we have implemented earlier:"
   ]
  },
  {
   "cell_type": "code",
   "execution_count": 204,
   "metadata": {},
   "outputs": [],
   "source": [
    "def train(train_data_set, train_labels, kernel_type='linear', C=10, threshold=1e-5):\n",
    "    kernel = build_kernel(train_data_set, kernel_type=kernel_type)\n",
    "    \n",
    "    objects_count = len(train_data_set)\n",
    "    \n",
    "    P = train_labels * train_labels.transpose() * kernel\n",
    "    q = -np.ones((objects_count, 1))\n",
    "    G = np.concatenate((np.eye(objects_count), -np.eye(objects_count)))\n",
    "    h = np.concatenate((C * np.ones((objects_count, 1)), np.zeros((objects_count, 1))))\n",
    "\n",
    "    A = train_labels.reshape(1, objects_count)\n",
    "    A = A.astype(float)\n",
    "    b = 0.0\n",
    "    \n",
    "    \n",
    "    sol = cvxopt.solvers.qp(cvxopt.matrix(P), cvxopt.matrix(q), cvxopt.matrix(G), cvxopt.matrix(h), cvxopt.matrix(A), cvxopt.matrix(b))\n",
    "    \n",
    "    lambdas = np.array(sol['x'])\n",
    "\n",
    "    support_vectors_id = np.where(lambdas > threshold)[0]\n",
    "    vector_number = len(support_vectors_id)\n",
    "    support_vectors = train_data_set[support_vectors_id, :]\n",
    "\n",
    "    lambdas = lambdas[support_vectors_id]\n",
    "    targets = train_labels[support_vectors_id]\n",
    "\n",
    "    b = np.sum(targets)\n",
    "    for n in range(vector_number):\n",
    "        b -= np.sum(lambdas * targets * np.reshape(kernel[support_vectors_id[n], support_vectors_id], (vector_number, 1)))\n",
    "    b /= len(lambdas)\n",
    "\n",
    "    return lambdas, support_vectors, support_vectors_id, b, targets, vector_number\n",
    "\"\"\"\n",
    "def build_kernel(data_set, kernel_type='linear'):\n",
    "    kernel = np.dot(data_set, data_set.T)\n",
    "    if kernel_type == 'rbf':\n",
    "        sigma = 1.0\n",
    "        objects_count = len(data_set)\n",
    "        b = np.ones((len(data_set), 1))\n",
    "        kernel -= 0.5 * (np.dot((np.diag(kernel)*np.ones((1, objects_count))).T, b.T)\n",
    "                         + np.dot(b, (np.diag(kernel) * np.ones((1, objects_count))).T.T))\n",
    "        kernel = np.exp(kernel / (2. * sigma ** 2))\n",
    "    return kernel\n",
    "\"\"\"\n",
    "def build_kernel(data_set, kernel_type='linear'):\n",
    "    kernel = np.dot(data_set, data_set.T)\n",
    "    if kernel_type == 'rbf':\n",
    "        sigma = 1.0\n",
    "        objects_count = len(data_set)\n",
    "        b = np.ones((len(data_set), 1))\n",
    "        kernel -= 0.5 * (np.dot((np.diag(kernel)*np.ones((1, objects_count))).T, b.T)\n",
    "                         + np.dot(b, (np.diag(kernel) * np.ones((1, objects_count))).T.T))\n",
    "        kernel = np.exp(kernel / (2. * sigma ** 2))\n",
    "    elif kernel_type == 'poly':\n",
    "        degree = 2\n",
    "        kernel = np.linalg.matrix_power(kernel, degree)\n",
    "    return kernel\n",
    "\n",
    "def classify_rbf(test_data_set, train_data_set, lambdas, targets, b, vector_number, support_vectors, support_vectors_id):\n",
    "    kernel = np.dot(test_data_set, support_vectors.T)\n",
    "    sigma = 1.0\n",
    "    #K = np.dot(test_data_set, support_vectors.T)\n",
    "    #kernel = build_kernel(train_data_set, kernel_type='rbf')\n",
    "    c = (1. / sigma * np.sum(test_data_set ** 2, axis=1) * np.ones((1, np.shape(test_data_set)[0]))).T\n",
    "    c = np.dot(c, np.ones((1, np.shape(kernel)[1])))\n",
    "    #aa = np.dot((np.diag(K)*np.ones((1,len(test_data_set)))).T[support_vectors_id], np.ones((1, np.shape(K)[0]))).T\n",
    "    sv = (np.diag(np.dot(train_data_set, train_data_set.T))*np.ones((1,len(train_data_set)))).T[support_vectors_id]\n",
    "    aa = np.dot(sv,np.ones((1,np.shape(kernel)[0]))).T\n",
    "    kernel = kernel - 0.5 * c - 0.5 * aa\n",
    "    kernel = np.exp(kernel / (2. * sigma ** 2))\n",
    "\n",
    "    y = np.zeros((np.shape(test_data_set)[0], 1))\n",
    "    for j in range(np.shape(test_data_set)[0]):\n",
    "        for i in range(vector_number):\n",
    "            y[j] += lambdas[i] * targets[i] * kernel[j, i]\n",
    "        y[j] += b\n",
    "    return np.sign(y)"
   ]
  },
  {
   "cell_type": "code",
   "execution_count": 222,
   "metadata": {},
   "outputs": [
    {
     "name": "stdout",
     "output_type": "stream",
     "text": [
      "     pcost       dcost       gap    pres   dres\n",
      " 0:  9.6305e+01 -1.2289e+03  2e+03  2e-01  2e-15\n",
      " 1:  5.9143e+01 -1.2031e+02  2e+02  5e-03  2e-15\n",
      " 2:  7.0898e+00 -1.6497e+01  2e+01  8e-16  3e-15\n",
      " 3: -5.2057e-01 -3.7668e+00  3e+00  2e-16  1e-15\n",
      " 4: -1.1712e+00 -1.8374e+00  7e-01  2e-16  3e-16\n",
      " 5: -1.3952e+00 -1.6846e+00  3e-01  2e-16  2e-16\n",
      " 6: -1.4671e+00 -1.5679e+00  1e-01  2e-16  2e-16\n",
      " 7: -1.5060e+00 -1.5164e+00  1e-02  2e-16  2e-16\n",
      " 8: -1.5105e+00 -1.5106e+00  1e-04  2e-16  2e-16\n",
      " 9: -1.5105e+00 -1.5105e+00  1e-06  2e-16  2e-16\n",
      "Optimal solution found.\n",
      "0.85\n",
      "     pcost       dcost       gap    pres   dres\n",
      " 0:  1.0960e+02 -1.2787e+03  2e+03  1e-01  2e-15\n",
      " 1:  6.2790e+01 -1.3211e+02  2e+02  6e-03  2e-15\n",
      " 2:  7.3654e+00 -1.8102e+01  3e+01  2e-15  3e-15\n",
      " 3: -7.5515e-01 -4.2288e+00  3e+00  3e-16  1e-15\n",
      " 4: -1.4405e+00 -2.3676e+00  9e-01  2e-16  3e-16\n",
      " 5: -1.7465e+00 -2.0630e+00  3e-01  2e-16  2e-16\n",
      " 6: -1.8105e+00 -1.9114e+00  1e-01  2e-16  2e-16\n",
      " 7: -1.8438e+00 -1.8684e+00  2e-02  2e-16  2e-16\n",
      " 8: -1.8526e+00 -1.8544e+00  2e-03  6e-16  2e-16\n",
      " 9: -1.8533e+00 -1.8534e+00  3e-05  2e-16  2e-16\n",
      "10: -1.8534e+00 -1.8534e+00  3e-07  2e-16  2e-16\n",
      "Optimal solution found.\n",
      "0.45\n",
      "     pcost       dcost       gap    pres   dres\n",
      " 0:  8.4860e+01 -1.3263e+03  3e+03  2e-01  2e-15\n",
      " 1:  5.7011e+01 -1.1832e+02  2e+02  5e-03  2e-15\n",
      " 2:  7.1294e+00 -1.6018e+01  2e+01  5e-16  3e-15\n",
      " 3: -4.3414e-01 -3.6152e+00  3e+00  2e-16  1e-15\n",
      " 4: -1.1330e+00 -1.7022e+00  6e-01  2e-16  4e-16\n",
      " 5: -1.2580e+00 -1.4691e+00  2e-01  2e-16  2e-16\n",
      " 6: -1.3321e+00 -1.4470e+00  1e-01  2e-16  2e-16\n",
      " 7: -1.3584e+00 -1.3700e+00  1e-02  2e-16  2e-16\n",
      " 8: -1.3632e+00 -1.3635e+00  3e-04  3e-16  2e-16\n",
      " 9: -1.3633e+00 -1.3633e+00  5e-06  2e-16  2e-16\n",
      "10: -1.3633e+00 -1.3633e+00  5e-08  2e-16  2e-16\n",
      "Optimal solution found.\n",
      "0.45\n"
     ]
    }
   ],
   "source": [
    "# modify this part\n",
    "N = get_labels_count(label)\n",
    "for i in range(int(N*(N-1)/2)):\n",
    "    \n",
    "    train_data_set, test_data_set, train_labels, test_labels = combinations[i]\n",
    "    \n",
    "    lambdas, support_vectors, support_vectors_id, b, targets, vector_number = train(train_data_set, train_labels, kernel_type='rbf')\n",
    "    predicted = classify_rbf(test_data_set, train_data_set, lambdas, targets, b, vector_number, support_vectors, support_vectors_id)\n",
    "    predicted = list(predicted.astype(int))\n",
    "\n",
    "    from sklearn.metrics import accuracy_score\n",
    "\n",
    "    print(accuracy_score(predicted, test_labels))"
   ]
  },
  {
   "cell_type": "code",
   "execution_count": null,
   "metadata": {},
   "outputs": [],
   "source": []
  }
 ],
 "metadata": {
  "kernelspec": {
   "display_name": "Python 3",
   "language": "python",
   "name": "python3"
  },
  "language_info": {
   "codemirror_mode": {
    "name": "ipython",
    "version": 3
   },
   "file_extension": ".py",
   "mimetype": "text/x-python",
   "name": "python",
   "nbconvert_exporter": "python",
   "pygments_lexer": "ipython3",
   "version": "3.7.1"
  }
 },
 "nbformat": 4,
 "nbformat_minor": 2
}
